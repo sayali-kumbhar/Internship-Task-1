{
 "cells": [
  {
   "cell_type": "code",
   "execution_count": 1,
   "metadata": {
    "_cell_guid": "b1076dfc-b9ad-4769-8c92-a6c4dae69d19",
    "_uuid": "8f2839f25d086af736a60e9eeb907d3b93b6e0e5",
    "execution": {
     "iopub.execute_input": "2025-01-24T12:16:01.759461Z",
     "iopub.status.busy": "2025-01-24T12:16:01.759150Z",
     "iopub.status.idle": "2025-01-24T12:16:03.458539Z",
     "shell.execute_reply": "2025-01-24T12:16:03.457325Z",
     "shell.execute_reply.started": "2025-01-24T12:16:01.759433Z"
    }
   },
   "outputs": [],
   "source": [
    "import numpy as np \n",
    "import pandas as pd "
   ]
  },
  {
   "cell_type": "code",
   "execution_count": 2,
   "metadata": {
    "execution": {
     "iopub.execute_input": "2025-01-24T12:16:03.460235Z",
     "iopub.status.busy": "2025-01-24T12:16:03.459747Z",
     "iopub.status.idle": "2025-01-24T12:16:03.608749Z",
     "shell.execute_reply": "2025-01-24T12:16:03.607421Z",
     "shell.execute_reply.started": "2025-01-24T12:16:03.460163Z"
    }
   },
   "outputs": [],
   "source": [
    "data=pd.read_csv(\"netflix_titles.csv\")"
   ]
  },
  {
   "cell_type": "code",
   "execution_count": 3,
   "metadata": {
    "execution": {
     "iopub.execute_input": "2025-01-24T12:16:03.614627Z",
     "iopub.status.busy": "2025-01-24T12:16:03.614218Z",
     "iopub.status.idle": "2025-01-24T12:16:03.652099Z",
     "shell.execute_reply": "2025-01-24T12:16:03.651006Z",
     "shell.execute_reply.started": "2025-01-24T12:16:03.614595Z"
    }
   },
   "outputs": [
    {
     "data": {
      "text/html": [
       "<div>\n",
       "<style scoped>\n",
       "    .dataframe tbody tr th:only-of-type {\n",
       "        vertical-align: middle;\n",
       "    }\n",
       "\n",
       "    .dataframe tbody tr th {\n",
       "        vertical-align: top;\n",
       "    }\n",
       "\n",
       "    .dataframe thead th {\n",
       "        text-align: right;\n",
       "    }\n",
       "</style>\n",
       "<table border=\"1\" class=\"dataframe\">\n",
       "  <thead>\n",
       "    <tr style=\"text-align: right;\">\n",
       "      <th></th>\n",
       "      <th>show_id</th>\n",
       "      <th>type</th>\n",
       "      <th>title</th>\n",
       "      <th>director</th>\n",
       "      <th>cast</th>\n",
       "      <th>country</th>\n",
       "      <th>date_added</th>\n",
       "      <th>release_year</th>\n",
       "      <th>rating</th>\n",
       "      <th>duration</th>\n",
       "      <th>listed_in</th>\n",
       "      <th>description</th>\n",
       "    </tr>\n",
       "  </thead>\n",
       "  <tbody>\n",
       "    <tr>\n",
       "      <th>0</th>\n",
       "      <td>s1</td>\n",
       "      <td>Movie</td>\n",
       "      <td>Dick Johnson Is Dead</td>\n",
       "      <td>Kirsten Johnson</td>\n",
       "      <td>NaN</td>\n",
       "      <td>United States</td>\n",
       "      <td>September 25, 2021</td>\n",
       "      <td>2020</td>\n",
       "      <td>PG-13</td>\n",
       "      <td>90 min</td>\n",
       "      <td>Documentaries</td>\n",
       "      <td>As her father nears the end of his life, filmm...</td>\n",
       "    </tr>\n",
       "    <tr>\n",
       "      <th>1</th>\n",
       "      <td>s2</td>\n",
       "      <td>TV Show</td>\n",
       "      <td>Blood &amp; Water</td>\n",
       "      <td>NaN</td>\n",
       "      <td>Ama Qamata, Khosi Ngema, Gail Mabalane, Thaban...</td>\n",
       "      <td>South Africa</td>\n",
       "      <td>September 24, 2021</td>\n",
       "      <td>2021</td>\n",
       "      <td>TV-MA</td>\n",
       "      <td>2 Seasons</td>\n",
       "      <td>International TV Shows, TV Dramas, TV Mysteries</td>\n",
       "      <td>After crossing paths at a party, a Cape Town t...</td>\n",
       "    </tr>\n",
       "    <tr>\n",
       "      <th>2</th>\n",
       "      <td>s3</td>\n",
       "      <td>TV Show</td>\n",
       "      <td>Ganglands</td>\n",
       "      <td>Julien Leclercq</td>\n",
       "      <td>Sami Bouajila, Tracy Gotoas, Samuel Jouy, Nabi...</td>\n",
       "      <td>NaN</td>\n",
       "      <td>September 24, 2021</td>\n",
       "      <td>2021</td>\n",
       "      <td>TV-MA</td>\n",
       "      <td>1 Season</td>\n",
       "      <td>Crime TV Shows, International TV Shows, TV Act...</td>\n",
       "      <td>To protect his family from a powerful drug lor...</td>\n",
       "    </tr>\n",
       "    <tr>\n",
       "      <th>3</th>\n",
       "      <td>s4</td>\n",
       "      <td>TV Show</td>\n",
       "      <td>Jailbirds New Orleans</td>\n",
       "      <td>NaN</td>\n",
       "      <td>NaN</td>\n",
       "      <td>NaN</td>\n",
       "      <td>September 24, 2021</td>\n",
       "      <td>2021</td>\n",
       "      <td>TV-MA</td>\n",
       "      <td>1 Season</td>\n",
       "      <td>Docuseries, Reality TV</td>\n",
       "      <td>Feuds, flirtations and toilet talk go down amo...</td>\n",
       "    </tr>\n",
       "    <tr>\n",
       "      <th>4</th>\n",
       "      <td>s5</td>\n",
       "      <td>TV Show</td>\n",
       "      <td>Kota Factory</td>\n",
       "      <td>NaN</td>\n",
       "      <td>Mayur More, Jitendra Kumar, Ranjan Raj, Alam K...</td>\n",
       "      <td>India</td>\n",
       "      <td>September 24, 2021</td>\n",
       "      <td>2021</td>\n",
       "      <td>TV-MA</td>\n",
       "      <td>2 Seasons</td>\n",
       "      <td>International TV Shows, Romantic TV Shows, TV ...</td>\n",
       "      <td>In a city of coaching centers known to train I...</td>\n",
       "    </tr>\n",
       "  </tbody>\n",
       "</table>\n",
       "</div>"
      ],
      "text/plain": [
       "  show_id     type                  title         director  \\\n",
       "0      s1    Movie   Dick Johnson Is Dead  Kirsten Johnson   \n",
       "1      s2  TV Show          Blood & Water              NaN   \n",
       "2      s3  TV Show              Ganglands  Julien Leclercq   \n",
       "3      s4  TV Show  Jailbirds New Orleans              NaN   \n",
       "4      s5  TV Show           Kota Factory              NaN   \n",
       "\n",
       "                                                cast        country  \\\n",
       "0                                                NaN  United States   \n",
       "1  Ama Qamata, Khosi Ngema, Gail Mabalane, Thaban...   South Africa   \n",
       "2  Sami Bouajila, Tracy Gotoas, Samuel Jouy, Nabi...            NaN   \n",
       "3                                                NaN            NaN   \n",
       "4  Mayur More, Jitendra Kumar, Ranjan Raj, Alam K...          India   \n",
       "\n",
       "           date_added  release_year rating   duration  \\\n",
       "0  September 25, 2021          2020  PG-13     90 min   \n",
       "1  September 24, 2021          2021  TV-MA  2 Seasons   \n",
       "2  September 24, 2021          2021  TV-MA   1 Season   \n",
       "3  September 24, 2021          2021  TV-MA   1 Season   \n",
       "4  September 24, 2021          2021  TV-MA  2 Seasons   \n",
       "\n",
       "                                           listed_in  \\\n",
       "0                                      Documentaries   \n",
       "1    International TV Shows, TV Dramas, TV Mysteries   \n",
       "2  Crime TV Shows, International TV Shows, TV Act...   \n",
       "3                             Docuseries, Reality TV   \n",
       "4  International TV Shows, Romantic TV Shows, TV ...   \n",
       "\n",
       "                                         description  \n",
       "0  As her father nears the end of his life, filmm...  \n",
       "1  After crossing paths at a party, a Cape Town t...  \n",
       "2  To protect his family from a powerful drug lor...  \n",
       "3  Feuds, flirtations and toilet talk go down amo...  \n",
       "4  In a city of coaching centers known to train I...  "
      ]
     },
     "execution_count": 3,
     "metadata": {},
     "output_type": "execute_result"
    }
   ],
   "source": [
    "data.head()"
   ]
  },
  {
   "cell_type": "code",
   "execution_count": 4,
   "metadata": {
    "execution": {
     "iopub.execute_input": "2025-01-24T12:16:04.843684Z",
     "iopub.status.busy": "2025-01-24T12:16:04.843156Z",
     "iopub.status.idle": "2025-01-24T12:16:04.869569Z",
     "shell.execute_reply": "2025-01-24T12:16:04.868479Z",
     "shell.execute_reply.started": "2025-01-24T12:16:04.843651Z"
    }
   },
   "outputs": [
    {
     "data": {
      "text/html": [
       "<div>\n",
       "<style scoped>\n",
       "    .dataframe tbody tr th:only-of-type {\n",
       "        vertical-align: middle;\n",
       "    }\n",
       "\n",
       "    .dataframe tbody tr th {\n",
       "        vertical-align: top;\n",
       "    }\n",
       "\n",
       "    .dataframe thead th {\n",
       "        text-align: right;\n",
       "    }\n",
       "</style>\n",
       "<table border=\"1\" class=\"dataframe\">\n",
       "  <thead>\n",
       "    <tr style=\"text-align: right;\">\n",
       "      <th></th>\n",
       "      <th>release_year</th>\n",
       "    </tr>\n",
       "  </thead>\n",
       "  <tbody>\n",
       "    <tr>\n",
       "      <th>count</th>\n",
       "      <td>8807.000000</td>\n",
       "    </tr>\n",
       "    <tr>\n",
       "      <th>mean</th>\n",
       "      <td>2014.180198</td>\n",
       "    </tr>\n",
       "    <tr>\n",
       "      <th>std</th>\n",
       "      <td>8.819312</td>\n",
       "    </tr>\n",
       "    <tr>\n",
       "      <th>min</th>\n",
       "      <td>1925.000000</td>\n",
       "    </tr>\n",
       "    <tr>\n",
       "      <th>25%</th>\n",
       "      <td>2013.000000</td>\n",
       "    </tr>\n",
       "    <tr>\n",
       "      <th>50%</th>\n",
       "      <td>2017.000000</td>\n",
       "    </tr>\n",
       "    <tr>\n",
       "      <th>75%</th>\n",
       "      <td>2019.000000</td>\n",
       "    </tr>\n",
       "    <tr>\n",
       "      <th>max</th>\n",
       "      <td>2021.000000</td>\n",
       "    </tr>\n",
       "  </tbody>\n",
       "</table>\n",
       "</div>"
      ],
      "text/plain": [
       "       release_year\n",
       "count   8807.000000\n",
       "mean    2014.180198\n",
       "std        8.819312\n",
       "min     1925.000000\n",
       "25%     2013.000000\n",
       "50%     2017.000000\n",
       "75%     2019.000000\n",
       "max     2021.000000"
      ]
     },
     "execution_count": 4,
     "metadata": {},
     "output_type": "execute_result"
    }
   ],
   "source": [
    "data.describe()"
   ]
  },
  {
   "cell_type": "code",
   "execution_count": 5,
   "metadata": {
    "execution": {
     "iopub.execute_input": "2025-01-24T12:16:07.628488Z",
     "iopub.status.busy": "2025-01-24T12:16:07.627996Z",
     "iopub.status.idle": "2025-01-24T12:16:07.667149Z",
     "shell.execute_reply": "2025-01-24T12:16:07.666032Z",
     "shell.execute_reply.started": "2025-01-24T12:16:07.628439Z"
    }
   },
   "outputs": [
    {
     "name": "stdout",
     "output_type": "stream",
     "text": [
      "<class 'pandas.core.frame.DataFrame'>\n",
      "RangeIndex: 8807 entries, 0 to 8806\n",
      "Data columns (total 12 columns):\n",
      " #   Column        Non-Null Count  Dtype \n",
      "---  ------        --------------  ----- \n",
      " 0   show_id       8807 non-null   object\n",
      " 1   type          8807 non-null   object\n",
      " 2   title         8807 non-null   object\n",
      " 3   director      6173 non-null   object\n",
      " 4   cast          7982 non-null   object\n",
      " 5   country       7976 non-null   object\n",
      " 6   date_added    8797 non-null   object\n",
      " 7   release_year  8807 non-null   int64 \n",
      " 8   rating        8803 non-null   object\n",
      " 9   duration      8804 non-null   object\n",
      " 10  listed_in     8807 non-null   object\n",
      " 11  description   8807 non-null   object\n",
      "dtypes: int64(1), object(11)\n",
      "memory usage: 825.8+ KB\n"
     ]
    }
   ],
   "source": [
    "data.info()"
   ]
  },
  {
   "cell_type": "code",
   "execution_count": 6,
   "metadata": {
    "execution": {
     "iopub.execute_input": "2025-01-24T12:16:57.929691Z",
     "iopub.status.busy": "2025-01-24T12:16:57.929162Z",
     "iopub.status.idle": "2025-01-24T12:16:57.948554Z",
     "shell.execute_reply": "2025-01-24T12:16:57.947272Z",
     "shell.execute_reply.started": "2025-01-24T12:16:57.929652Z"
    }
   },
   "outputs": [
    {
     "name": "stdout",
     "output_type": "stream",
     "text": [
      "show_id            0\n",
      "type               0\n",
      "title              0\n",
      "director        2634\n",
      "cast             825\n",
      "country          831\n",
      "date_added        10\n",
      "release_year       0\n",
      "rating             4\n",
      "duration           3\n",
      "listed_in          0\n",
      "description        0\n",
      "dtype: int64\n"
     ]
    }
   ],
   "source": [
    "print(data.isnull().sum())"
   ]
  },
  {
   "cell_type": "code",
   "execution_count": 7,
   "metadata": {
    "execution": {
     "iopub.execute_input": "2025-01-24T12:17:29.881197Z",
     "iopub.status.busy": "2025-01-24T12:17:29.880666Z",
     "iopub.status.idle": "2025-01-24T12:17:29.934062Z",
     "shell.execute_reply": "2025-01-24T12:17:29.932678Z",
     "shell.execute_reply.started": "2025-01-24T12:17:29.881126Z"
    }
   },
   "outputs": [],
   "source": [
    "data.fillna(\" \",inplace=True)\n",
    "data['text'] = data['title'] + \" \" + data['cast'] + \" \" + data['country'] + \" \" + data['listed_in'] + \" \" + data['description']"
   ]
  },
  {
   "cell_type": "code",
   "execution_count": 8,
   "metadata": {
    "execution": {
     "iopub.execute_input": "2025-01-24T12:18:05.286864Z",
     "iopub.status.busy": "2025-01-24T12:18:05.286491Z",
     "iopub.status.idle": "2025-01-24T12:18:05.291614Z",
     "shell.execute_reply": "2025-01-24T12:18:05.290435Z",
     "shell.execute_reply.started": "2025-01-24T12:18:05.286837Z"
    }
   },
   "outputs": [],
   "source": [
    "x=data['text']\n",
    "y=data['type']"
   ]
  },
  {
   "cell_type": "code",
   "execution_count": 9,
   "metadata": {
    "execution": {
     "iopub.execute_input": "2025-01-24T12:25:12.839385Z",
     "iopub.status.busy": "2025-01-24T12:25:12.838911Z",
     "iopub.status.idle": "2025-01-24T12:25:13.520628Z",
     "shell.execute_reply": "2025-01-24T12:25:13.519429Z",
     "shell.execute_reply.started": "2025-01-24T12:25:12.839351Z"
    }
   },
   "outputs": [],
   "source": [
    "from sklearn.feature_extraction.text import TfidfVectorizer\n",
    "from sklearn.model_selection import train_test_split\n",
    "from sklearn.tree import DecisionTreeClassifier\n",
    "from sklearn.metrics import classification_report,accuracy_score\n",
    "vect=TfidfVectorizer(max_features=5000)\n",
    "x_vect=vect.fit_transform(x)"
   ]
  },
  {
   "cell_type": "code",
   "execution_count": 10,
   "metadata": {
    "execution": {
     "iopub.execute_input": "2025-01-24T12:30:00.717456Z",
     "iopub.status.busy": "2025-01-24T12:30:00.717019Z",
     "iopub.status.idle": "2025-01-24T12:30:00.729252Z",
     "shell.execute_reply": "2025-01-24T12:30:00.727797Z",
     "shell.execute_reply.started": "2025-01-24T12:30:00.717424Z"
    }
   },
   "outputs": [
    {
     "name": "stdout",
     "output_type": "stream",
     "text": [
      "(7045, 5000) (7045,)\n",
      "(1762, 5000) (1762,)\n"
     ]
    }
   ],
   "source": [
    "x_train,x_test,y_train,y_test=train_test_split(x_vect,y,random_state=42,test_size=0.2)\n",
    "print(x_train.shape,y_train.shape)\n",
    "print(x_test.shape,y_test.shape)"
   ]
  },
  {
   "cell_type": "code",
   "execution_count": 11,
   "metadata": {
    "execution": {
     "iopub.execute_input": "2025-01-24T12:30:56.063998Z",
     "iopub.status.busy": "2025-01-24T12:30:56.063586Z",
     "iopub.status.idle": "2025-01-24T12:30:56.359452Z",
     "shell.execute_reply": "2025-01-24T12:30:56.358375Z",
     "shell.execute_reply.started": "2025-01-24T12:30:56.063966Z"
    }
   },
   "outputs": [],
   "source": [
    "model=DecisionTreeClassifier()\n",
    "model.fit(x_train,y_train)\n",
    "pred=model.predict(x_test)\n"
   ]
  },
  {
   "cell_type": "code",
   "execution_count": 12,
   "metadata": {
    "execution": {
     "iopub.execute_input": "2025-01-24T12:30:56.855428Z",
     "iopub.status.busy": "2025-01-24T12:30:56.855004Z",
     "iopub.status.idle": "2025-01-24T12:30:56.928421Z",
     "shell.execute_reply": "2025-01-24T12:30:56.927088Z",
     "shell.execute_reply.started": "2025-01-24T12:30:56.855396Z"
    }
   },
   "outputs": [
    {
     "name": "stdout",
     "output_type": "stream",
     "text": [
      "              precision    recall  f1-score   support\n",
      "\n",
      "       Movie       1.00      0.99      0.99      1214\n",
      "     TV Show       0.98      0.99      0.99       548\n",
      "\n",
      "    accuracy                           0.99      1762\n",
      "   macro avg       0.99      0.99      0.99      1762\n",
      "weighted avg       0.99      0.99      0.99      1762\n",
      "\n"
     ]
    }
   ],
   "source": [
    "print(classification_report(y_test,pred))"
   ]
  },
  {
   "cell_type": "code",
   "execution_count": 13,
   "metadata": {},
   "outputs": [
    {
     "name": "stdout",
     "output_type": "stream",
     "text": [
      "|--- feature_4623 <= 0.02\n",
      "|   |--- feature_1236 <= 0.04\n",
      "|   |   |--- feature_4389 <= 0.17\n",
      "|   |   |   |--- feature_2465 <= 0.22\n",
      "|   |   |   |   |--- feature_2502 <= 0.23\n",
      "|   |   |   |   |   |--- feature_1404 <= 0.23\n",
      "|   |   |   |   |   |   |--- feature_3786 <= 0.26\n",
      "|   |   |   |   |   |   |   |--- feature_4661 <= 0.29\n",
      "|   |   |   |   |   |   |   |   |--- feature_1987 <= 0.11\n",
      "|   |   |   |   |   |   |   |   |   |--- feature_1802 <= 0.22\n",
      "|   |   |   |   |   |   |   |   |   |   |--- class: Movie\n",
      "|   |   |   |   |   |   |   |   |   |--- feature_1802 >  0.22\n",
      "|   |   |   |   |   |   |   |   |   |   |--- feature_48 <= 0.10\n",
      "|   |   |   |   |   |   |   |   |   |   |   |--- class: Movie\n",
      "|   |   |   |   |   |   |   |   |   |   |--- feature_48 >  0.10\n",
      "|   |   |   |   |   |   |   |   |   |   |   |--- class: TV Show\n",
      "|   |   |   |   |   |   |   |   |--- feature_1987 >  0.11\n",
      "|   |   |   |   |   |   |   |   |   |--- class: TV Show\n",
      "|   |   |   |   |   |   |   |--- feature_4661 >  0.29\n",
      "|   |   |   |   |   |   |   |   |--- class: TV Show\n",
      "|   |   |   |   |   |   |--- feature_3786 >  0.26\n",
      "|   |   |   |   |   |   |   |--- class: TV Show\n",
      "|   |   |   |   |   |--- feature_1404 >  0.23\n",
      "|   |   |   |   |   |   |--- class: TV Show\n",
      "|   |   |   |   |--- feature_2502 >  0.23\n",
      "|   |   |   |   |   |--- class: TV Show\n",
      "|   |   |   |--- feature_2465 >  0.22\n",
      "|   |   |   |   |--- class: TV Show\n",
      "|   |   |--- feature_4389 >  0.17\n",
      "|   |   |   |--- feature_4077 <= 0.04\n",
      "|   |   |   |   |--- class: Movie\n",
      "|   |   |   |--- feature_4077 >  0.04\n",
      "|   |   |   |   |--- class: TV Show\n",
      "|   |--- feature_1236 >  0.04\n",
      "|   |   |--- feature_3535 <= 0.12\n",
      "|   |   |   |--- class: TV Show\n",
      "|   |   |--- feature_3535 >  0.12\n",
      "|   |   |   |--- class: Movie\n",
      "|--- feature_4623 >  0.02\n",
      "|   |--- feature_3042 <= 0.02\n",
      "|   |   |--- feature_1758 <= 0.09\n",
      "|   |   |   |--- feature_1233 <= 0.05\n",
      "|   |   |   |   |--- feature_4235 <= 0.14\n",
      "|   |   |   |   |   |--- feature_1287 <= 0.22\n",
      "|   |   |   |   |   |   |--- feature_1856 <= 0.10\n",
      "|   |   |   |   |   |   |   |--- feature_619 <= 0.47\n",
      "|   |   |   |   |   |   |   |   |--- feature_1379 <= 0.21\n",
      "|   |   |   |   |   |   |   |   |   |--- class: TV Show\n",
      "|   |   |   |   |   |   |   |   |--- feature_1379 >  0.21\n",
      "|   |   |   |   |   |   |   |   |   |--- feature_3010 <= 0.13\n",
      "|   |   |   |   |   |   |   |   |   |   |--- class: Movie\n",
      "|   |   |   |   |   |   |   |   |   |--- feature_3010 >  0.13\n",
      "|   |   |   |   |   |   |   |   |   |   |--- class: TV Show\n",
      "|   |   |   |   |   |   |   |--- feature_619 >  0.47\n",
      "|   |   |   |   |   |   |   |   |--- class: Movie\n",
      "|   |   |   |   |   |   |--- feature_1856 >  0.10\n",
      "|   |   |   |   |   |   |   |--- class: Movie\n",
      "|   |   |   |   |   |--- feature_1287 >  0.22\n",
      "|   |   |   |   |   |   |--- class: Movie\n",
      "|   |   |   |   |--- feature_4235 >  0.14\n",
      "|   |   |   |   |   |--- feature_4077 <= 0.03\n",
      "|   |   |   |   |   |   |--- class: Movie\n",
      "|   |   |   |   |   |--- feature_4077 >  0.03\n",
      "|   |   |   |   |   |   |--- class: TV Show\n",
      "|   |   |   |--- feature_1233 >  0.05\n",
      "|   |   |   |   |--- feature_1234 <= 0.17\n",
      "|   |   |   |   |   |--- feature_3477 <= 0.16\n",
      "|   |   |   |   |   |   |--- class: TV Show\n",
      "|   |   |   |   |   |--- feature_3477 >  0.16\n",
      "|   |   |   |   |   |   |--- class: Movie\n",
      "|   |   |   |   |--- feature_1234 >  0.17\n",
      "|   |   |   |   |   |--- class: Movie\n",
      "|   |   |--- feature_1758 >  0.09\n",
      "|   |   |   |--- class: Movie\n",
      "|   |--- feature_3042 >  0.02\n",
      "|   |   |--- feature_4623 <= 0.12\n",
      "|   |   |   |--- class: Movie\n",
      "|   |   |--- feature_4623 >  0.12\n",
      "|   |   |   |--- class: TV Show\n",
      "\n"
     ]
    }
   ],
   "source": [
    "from sklearn import tree\n",
    "text_representation = tree.export_text(model)\n",
    "print(text_representation)"
   ]
  },
  {
   "cell_type": "code",
   "execution_count": 15,
   "metadata": {},
   "outputs": [],
   "source": [
    "import matplotlib.pyplot as plt"
   ]
  },
  {
   "cell_type": "code",
   "execution_count": 25,
   "metadata": {},
   "outputs": [
    {
     "name": "stdout",
     "output_type": "stream",
     "text": [
      "<class 'pandas.core.series.Series'>\n"
     ]
    }
   ],
   "source": [
    "print(type(x))"
   ]
  },
  {
   "cell_type": "code",
   "execution_count": 27,
   "metadata": {},
   "outputs": [],
   "source": [
    "a=pd.DataFrame(x)"
   ]
  },
  {
   "cell_type": "code",
   "execution_count": null,
   "metadata": {},
   "outputs": [],
   "source": []
  }
 ],
 "metadata": {
  "kaggle": {
   "accelerator": "none",
   "dataSources": [
    {
     "datasetId": 6417893,
     "sourceId": 10362470,
     "sourceType": "datasetVersion"
    }
   ],
   "dockerImageVersionId": 30839,
   "isGpuEnabled": false,
   "isInternetEnabled": false,
   "language": "python",
   "sourceType": "notebook"
  },
  "kernelspec": {
   "display_name": "Python 3 (ipykernel)",
   "language": "python",
   "name": "python3"
  },
  "language_info": {
   "codemirror_mode": {
    "name": "ipython",
    "version": 3
   },
   "file_extension": ".py",
   "mimetype": "text/x-python",
   "name": "python",
   "nbconvert_exporter": "python",
   "pygments_lexer": "ipython3",
   "version": "3.9.12"
  }
 },
 "nbformat": 4,
 "nbformat_minor": 4
}
